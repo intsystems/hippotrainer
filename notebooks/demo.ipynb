{
 "cells": [
  {
   "cell_type": "markdown",
   "metadata": {},
   "source": [
    "# Demo"
   ]
  },
  {
   "cell_type": "code",
   "execution_count": 1,
   "metadata": {},
   "outputs": [],
   "source": [
    "import sys\n",
    "\n",
    "sys.path.append(\"../src\")"
   ]
  },
  {
   "cell_type": "code",
   "execution_count": 2,
   "metadata": {},
   "outputs": [],
   "source": [
    "import torch\n",
    "import numpy as np\n",
    "import matplotlib.pyplot as plt\n",
    "import torch\n",
    "import torch.nn as nn\n",
    "import torch.optim as optim\n",
    "import seaborn as sns\n",
    "import sys\n",
    "import os\n",
    "import pandas as pd\n",
    "\n",
    "from torch.utils.data import DataLoader, TensorDataset\n",
    "from sklearn.datasets import load_iris\n",
    "from sklearn.model_selection import train_test_split\n",
    "from sklearn.preprocessing import StandardScaler, OneHotEncoder\n",
    "from sklearn.metrics import (\n",
    "    confusion_matrix,\n",
    "    ConfusionMatrixDisplay,\n",
    "    accuracy_score,\n",
    "    precision_recall_fscore_support,\n",
    ")\n",
    "from sklearn.impute import SimpleImputer\n",
    "from sklearn.compose import ColumnTransformer\n",
    "from sklearn.pipeline import Pipeline\n",
    "\n",
    "\n",
    "%load_ext autoreload\n",
    "%autoreload 2"
   ]
  },
  {
   "cell_type": "markdown",
   "metadata": {},
   "source": [
    "### Dataset\n",
    "We'll use the Iris dataset from sklearn. This dataset has three classes."
   ]
  },
  {
   "cell_type": "code",
   "execution_count": 3,
   "metadata": {},
   "outputs": [
    {
     "name": "stdout",
     "output_type": "stream",
     "text": [
      "sepal length (cm)    0\n",
      "sepal width (cm)     0\n",
      "petal length (cm)    0\n",
      "petal width (cm)     0\n",
      "dtype: int64\n"
     ]
    }
   ],
   "source": [
    "iris = load_iris()\n",
    "X = iris.data\n",
    "y = iris.target\n",
    "feature_names = iris.feature_names\n",
    "class_names = iris.target_names\n",
    "\n",
    "df = pd.DataFrame(X, columns=feature_names)\n",
    "print(df.isnull().sum())\n",
    "df[\"class\"] = y\n",
    "\n",
    "X_train, X_val, y_train, y_val = train_test_split(X, y, test_size=0.2, random_state=42)\n",
    "\n",
    "train_df = pd.DataFrame(X_train, columns=feature_names)\n",
    "val_df = pd.DataFrame(X_val, columns=feature_names)\n",
    "\n",
    "numerical_features = feature_names\n",
    "categorical_features = []\n",
    "\n",
    "X_train_tensor = torch.tensor(X_train, dtype=torch.float32)\n",
    "y_train_tensor = torch.tensor(y_train, dtype=torch.long)\n",
    "X_val_tensor = torch.tensor(X_val, dtype=torch.float32)\n",
    "y_val_tensor = torch.tensor(y_val, dtype=torch.long)\n",
    "\n",
    "train_dataset = TensorDataset(X_train_tensor, y_train_tensor)\n",
    "val_dataset = TensorDataset(X_val_tensor, y_val_tensor)\n",
    "train_loader = DataLoader(train_dataset, batch_size=4, shuffle=True)\n",
    "val_loader = DataLoader(val_dataset, batch_size=4, shuffle=False)"
   ]
  },
  {
   "cell_type": "markdown",
   "metadata": {},
   "source": [
    "### Define Logistic Regression Model\n",
    "We'll define a multiclass Logistic Regression model using PyTorch. The model will have a linear layer that maps the input features to the class scores."
   ]
  },
  {
   "cell_type": "code",
   "execution_count": 4,
   "metadata": {},
   "outputs": [],
   "source": [
    "class LogisticRegressionModel(nn.Module):\n",
    "    def __init__(self, input_dim, num_classes):\n",
    "        super(LogisticRegressionModel, self).__init__()\n",
    "        self.linear = nn.Linear(input_dim, num_classes)\n",
    "\n",
    "    def forward(self, x):\n",
    "        return self.linear(x)"
   ]
  },
  {
   "cell_type": "markdown",
   "metadata": {},
   "source": [
    "### Define Loss"
   ]
  },
  {
   "cell_type": "code",
   "execution_count": 5,
   "metadata": {},
   "outputs": [],
   "source": [
    "class LogisticRegressionLoss(nn.Module):\n",
    "    def __init__(self, model, lambd):\n",
    "        super(LogisticRegressionLoss, self).__init__()\n",
    "        self.cross_entropy = nn.CrossEntropyLoss()\n",
    "        self.model = model\n",
    "        self.lambd = lambd\n",
    "\n",
    "    def forward(self, outputs, labels):\n",
    "        # Compute the cross-entropy loss\n",
    "        ce_loss = self.cross_entropy(outputs, labels)\n",
    "\n",
    "        # Compute the L2 regularization term\n",
    "        l2_reg = 0.0\n",
    "        for param in self.model.parameters():\n",
    "            l2_reg += torch.norm(param) ** 2\n",
    "\n",
    "        # Combine the cross-entropy loss and the L2 regularization term\n",
    "        loss = ce_loss + self.lambd * l2_reg\n",
    "        return loss"
   ]
  },
  {
   "cell_type": "markdown",
   "metadata": {},
   "source": [
    "### HyperOptimizer"
   ]
  },
  {
   "cell_type": "code",
   "execution_count": 6,
   "metadata": {},
   "outputs": [],
   "source": [
    "class HyperTrainer:\n",
    "    def __init__(self, num_epochs, model, criterion, train_loader, hyper_optimizer):\n",
    "        self.num_epochs = num_epochs\n",
    "        self.model = model\n",
    "        self.criterion = criterion\n",
    "        self.train_loader = train_loader\n",
    "        self.hyper_optimizer = hyper_optimizer\n",
    "        self.hyperparams_history = {\n",
    "            name: [hyperparam.item()]\n",
    "            for name, hyperparam in self.hyper_optimizer.hyperparams.items()\n",
    "        }\n",
    "\n",
    "    def train(self):\n",
    "        for epoch in range(self.num_epochs):\n",
    "            self.model.train()\n",
    "            running_loss = 0.0\n",
    "            for inputs, labels in self.train_loader:\n",
    "\n",
    "                outputs = self.model(inputs)\n",
    "                loss = self.criterion(outputs, labels)\n",
    "                loss.backward(retain_graph=True)\n",
    "\n",
    "                # Use the hyper optimizer step method\n",
    "                self.hyper_optimizer.step(loss)\n",
    "                if self.hyper_optimizer.step_count % self.hyper_optimizer.inner_steps == 0:\n",
    "                    for name, hyperparam in self.hyper_optimizer.hyperparams.items():\n",
    "                        self.hyperparams_history[name].append(hyperparam.item())\n",
    "\n",
    "                # Zero the gradients using the hyper optimizer\n",
    "                self.hyper_optimizer.zero_grad()\n",
    "\n",
    "                running_loss += loss.item()\n",
    "\n",
    "            print(f\"Epoch {epoch+1}/{self.num_epochs}, Training Loss: {running_loss/len(self.train_loader)}\")"
   ]
  },
  {
   "cell_type": "code",
   "execution_count": 7,
   "metadata": {},
   "outputs": [],
   "source": [
    "from hippotrainer import Direct"
   ]
  },
  {
   "cell_type": "code",
   "execution_count": 8,
   "metadata": {},
   "outputs": [
    {
     "name": "stdout",
     "output_type": "stream",
     "text": [
      "Epoch 1/10, Training Loss: 2.2428341786066692\n",
      "Epoch 2/10, Training Loss: 1.0986541350682577\n",
      "Epoch 3/10, Training Loss: 1.0627401848634084\n",
      "Epoch 4/10, Training Loss: 1.0694574733575186\n",
      "Epoch 5/10, Training Loss: 1.0614956001440683\n",
      "Epoch 6/10, Training Loss: 1.0467563192049663\n",
      "Epoch 7/10, Training Loss: 1.049116430679957\n",
      "Epoch 8/10, Training Loss: 1.0572328766187031\n",
      "Epoch 9/10, Training Loss: 1.054870104789734\n",
      "Epoch 10/10, Training Loss: 1.0526477515697479\n",
      "Final Validation Loss: 1.1052\n"
     ]
    },
    {
     "data": {
      "image/png": "[encoded data removed]",
      "text/plain": [
       "<Figure size 640x480 with 1 Axes>"
      ]
     },
     "metadata": {},
     "output_type": "display_data"
    }
   ],
   "source": [
    "# Usage example\n",
    "input_dim = len(feature_names)\n",
    "num_classes = len(class_names)\n",
    "model = LogisticRegressionModel(input_dim, num_classes)\n",
    "num_epochs = 10\n",
    "theta = torch.tensor([1.0], requires_grad=True)\n",
    "lambd = theta.exp()\n",
    "\n",
    "# Initialize the custom loss function\n",
    "criterion = LogisticRegressionLoss(model, lambd)\n",
    "\n",
    "# Initialize the optimizer\n",
    "optimizer = optim.SGD(model.parameters(), lr=0.01)\n",
    "\n",
    "# Initialize the hyper optimizer\n",
    "hyper_optimizer = Direct(\n",
    "    hyperparams={\"theta\": theta},\n",
    "    hyper_lr=1e-3,\n",
    "    inner_steps=5,\n",
    "    model=model,\n",
    "    optimizer=optimizer,\n",
    "    val_loader=val_loader,\n",
    "    criterion=criterion,\n",
    ")\n",
    "\n",
    "# Initialize the trainer\n",
    "trainer = HyperTrainer(num_epochs, model, criterion, train_loader, hyper_optimizer)\n",
    "\n",
    "# Train the model\n",
    "trainer.train()\n",
    "\n",
    "# Evaluate the model\n",
    "final_val_loss = hyper_optimizer.evaluate()\n",
    "print(f\"Final Validation Loss: {final_val_loss.item():.4f}\")\n",
    "\n",
    "# Plot the hyperparameter changing\n",
    "for name, hyperparam_values in trainer.hyperparams_history.items():\n",
    "    steps = list(range(len(hyperparam_values)))\n",
    "    plt.plot(steps, hyperparam_values, marker=\"o\")\n",
    "    plt.xlabel(\"Steps\")\n",
    "    plt.ylabel(f\"Hyperparameter {name} Value\")\n",
    "    plt.title(f\"Change of Hyperparameter {name} over Steps\")\n",
    "    plt.grid(True)\n",
    "    plt.show()"
   ]
  },
  {
   "cell_type": "markdown",
   "metadata": {},
   "source": [
    "### Neumann (Optimizing Millions of Hyperparameters by Implicit Diﬀerentiation)"
   ]
  },
  {
   "cell_type": "code",
   "execution_count": 9,
   "metadata": {},
   "outputs": [],
   "source": [
    "# from hippotrainer import Neumann"
   ]
  },
  {
   "cell_type": "code",
   "execution_count": 10,
   "metadata": {},
   "outputs": [],
   "source": [
    "# torch.autograd.set_detect_anomaly(True)\n",
    "\n",
    "# # Usage example\n",
    "# input_dim = len(feature_names)\n",
    "# num_classes = len(class_names)\n",
    "# model = LogisticRegaressionModel(input_dim, num_classes)\n",
    "# num_epochs = 10\n",
    "# # theta = torch.tensor([1.0], requires_grad=True)\n",
    "# # lambd = theta.exp()\n",
    "# lambd = torch.tensor([1.0])\n",
    "\n",
    "# # Initialize the custom loss function\n",
    "# criterion = LogisticRegressionLoss(model, lambd)\n",
    "\n",
    "# # Initialize the optimizer\n",
    "# optimizer = optim.SGD(model.parameters(), lr=0.01)\n",
    "\n",
    "# # Initialize the hyper optimizer\n",
    "# hyper_optimizer = Neumann(\n",
    "#     hyperparams={\"theta\": theta},\n",
    "#     hyper_lr=1e-3,\n",
    "#     inner_steps=5,\n",
    "#     model=model,\n",
    "#     optimizer=optimizer,\n",
    "#     val_loader=val_loader,\n",
    "#     criterion=criterion,\n",
    "# )\n",
    "\n",
    "# # Initialize the trainer\n",
    "# trainer = HyperTrainer(num_epochs, model, criterion, train_loader, hyper_optimizer)\n",
    "\n",
    "# # Train the model\n",
    "# torch.autograd.set_detect_anomaly(True)\n",
    "# trainer.train()\n",
    "\n",
    "# # Evaluate the model\n",
    "# final_val_loss = hyper_optimizer.evaluate()\n",
    "# print(f\"Final Validation Loss: {final_val_loss.item():.4f}\")\n",
    "\n",
    "# # Plot the hyperparameter changing\n",
    "# for name, hyperparam_values in trainer.hyperparams_history.items():\n",
    "#     steps = list(range(len(hyperparam_values)))\n",
    "#     plt.plot(steps, hyperparam_values, marker=\"o\")\n",
    "#     plt.xlabel(\"Steps\")\n",
    "#     plt.ylabel(f\"Hyperparameter {name} Value\")\n",
    "#     plt.title(f\"Change of Hyperparameter {name} over Steps\")\n",
    "#     plt.grid(True)\n",
    "#     plt.show()"
   ]
  }
 ],
 "metadata": {
  "kernelspec": {
   "display_name": "nkiselev-hippotrainer",
   "language": "python",
   "name": "python3"
  },
  "language_info": {
   "codemirror_mode": {
    "name": "ipython",
    "version": 3
   },
   "file_extension": ".py",
   "mimetype": "text/x-python",
   "name": "python",
   "nbconvert_exporter": "python",
   "pygments_lexer": "ipython3",
   "version": "3.10.16"
  }
 },
 "nbformat": 4,
 "nbformat_minor": 2
}
